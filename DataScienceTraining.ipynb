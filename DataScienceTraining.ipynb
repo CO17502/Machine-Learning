{
  "nbformat": 4,
  "nbformat_minor": 0,
  "metadata": {
    "colab": {
      "provenance": [],
      "authorship_tag": "ABX9TyORYMKRIjxGyTCy2Yga37V0",
      "include_colab_link": true
    },
    "kernelspec": {
      "name": "python3",
      "display_name": "Python 3"
    },
    "language_info": {
      "name": "python"
    }
  },
  "cells": [
    {
      "cell_type": "markdown",
      "metadata": {
        "id": "view-in-github",
        "colab_type": "text"
      },
      "source": [
        "<a href=\"https://colab.research.google.com/github/CO17502/Machine-Learning/blob/main/DataScienceTraining.ipynb\" target=\"_parent\"><img src=\"https://colab.research.google.com/assets/colab-badge.svg\" alt=\"Open In Colab\"/></a>"
      ]
    },
    {
      "cell_type": "markdown",
      "source": [
        "TASK 1"
      ],
      "metadata": {
        "id": "K3vN6tyY_dUm"
      }
    },
    {
      "cell_type": "code",
      "execution_count": null,
      "metadata": {
        "id": "zCDic46BwYbJ",
        "colab": {
          "base_uri": "https://localhost:8080/"
        },
        "outputId": "193ea395-b509-44a1-9bb2-3f2277fa9cd9"
      },
      "outputs": [
        {
          "output_type": "stream",
          "name": "stdout",
          "text": [
            "Enter the calories consumed: 120\n",
            "Predicted weight gained: -575.333559329278 grams\n"
          ]
        }
      ],
      "source": [
        "import pandas as pd\n",
        "from sklearn.linear_model import LinearRegression\n",
        "\n",
        "# Load the dataset\n",
        "data = pd.read_csv('/content/calories_consumed.csv')\n",
        "\n",
        "# Split the dataset into input (calories consumed) and output (weight gained) variables\n",
        "X = data['Calories_Consumed'].values.reshape(-1, 1)\n",
        "y = data['Weight_gained_grams'].values\n",
        "\n",
        "# Create a linear regression model\n",
        "model = LinearRegression()\n",
        "\n",
        "# Fit the model to the data\n",
        "model.fit(X, y)\n",
        "\n",
        "# Take user input for calories consumed\n",
        "calories = float(input(\"Enter the calories consumed: \"))\n",
        "\n",
        "# Predict weight gained based on the input calories\n",
        "weight_gained = model.predict([[calories]])\n",
        "\n",
        "print(f\"Predicted weight gained: {weight_gained[0]} grams\")\n"
      ]
    },
    {
      "cell_type": "markdown",
      "source": [
        "TASK 2"
      ],
      "metadata": {
        "id": "Jeixtj_p_hz6"
      }
    },
    {
      "cell_type": "code",
      "source": [
        "import pandas as pd\n",
        "from sklearn.linear_model import LinearRegression\n",
        "\n",
        "# Load the dataset\n",
        "data = pd.read_csv('/content/delivery_time.csv')\n",
        "\n",
        "# Extract the features (sorting time) and target variable (delivery time)\n",
        "X = data['Sorting_Time'].values.reshape(-1, 1)\n",
        "y = data['Delivery_Time'].values\n",
        "\n",
        "# Create and fit the linear regression model\n",
        "model = LinearRegression()\n",
        "model.fit(X, y)\n",
        "\n",
        "# Take input from the user\n",
        "sorting_time = float(input(\"Enter the sorting time: \"))\n",
        "\n",
        "# Predict the delivery time\n",
        "predicted_delivery_time = model.predict([[sorting_time]])\n",
        "\n",
        "print(\"Predicted delivery time:\", predicted_delivery_time)\n"
      ],
      "metadata": {
        "colab": {
          "base_uri": "https://localhost:8080/"
        },
        "id": "RUlk80jJ_joj",
        "outputId": "1b1e5e41-53aa-424e-ebbb-51b3791f2652"
      },
      "execution_count": null,
      "outputs": [
        {
          "output_type": "stream",
          "name": "stdout",
          "text": [
            "Enter the sorting time: 14.5\n",
            "Predicted delivery time: [30.49352248]\n"
          ]
        }
      ]
    },
    {
      "cell_type": "markdown",
      "source": [
        "TASK 3"
      ],
      "metadata": {
        "id": "yZCzWQ97AOcn"
      }
    },
    {
      "cell_type": "code",
      "source": [
        "import pandas as pd\n",
        "from sklearn.linear_model import LinearRegression\n",
        "from sklearn.model_selection import train_test_split\n",
        "from sklearn.metrics import mean_squared_error\n",
        "\n",
        "# Load the data from the CSV file\n",
        "data = pd.read_csv('/content/emp_data.csv')\n",
        "\n",
        "# Split the data into input features (X) and target variable (y)\n",
        "X = data['Salary_hike'].values.reshape(-1, 1)\n",
        "y = data['Churn_out_rate'].values\n",
        "\n",
        "# Split the data into training and testing sets\n",
        "X_train, X_test, y_train, y_test = train_test_split(X, y, test_size=0.2, random_state=42)\n",
        "\n",
        "# Create a linear regression model\n",
        "model = LinearRegression()\n",
        "\n",
        "# Train the model\n",
        "model.fit(X_train, y_train)\n",
        "\n",
        "# Make predictions on the test set\n",
        "y_pred = model.predict(X_test)\n",
        "\n",
        "# Evaluate the model\n",
        "mse = mean_squared_error(y_test, y_pred)\n",
        "print('Mean Squared Error:', mse)\n",
        "\n",
        "# Predict the churn-out rate for a new salary hike value\n",
        "new_salary_hike = [[1900]]\n",
        "predicted_churn_out_rate = model.predict(new_salary_hike)\n",
        "print('Predicted Churn-out Rate:', predicted_churn_out_rate)\n"
      ],
      "metadata": {
        "colab": {
          "base_uri": "https://localhost:8080/"
        },
        "id": "N9SdV2mpANtb",
        "outputId": "2313702c-18b4-4089-fd8b-7fd64c60837d"
      },
      "execution_count": null,
      "outputs": [
        {
          "output_type": "stream",
          "name": "stdout",
          "text": [
            "Mean Squared Error: 7.601526993161889\n",
            "Predicted Churn-out Rate: [51.83240049]\n"
          ]
        }
      ]
    },
    {
      "cell_type": "markdown",
      "source": [
        "TASK 4"
      ],
      "metadata": {
        "id": "iUE3k_OzBDwk"
      }
    },
    {
      "cell_type": "code",
      "source": [
        "import pandas as pd\n",
        "from sklearn.linear_model import LinearRegression\n",
        "from sklearn.model_selection import train_test_split\n",
        "\n",
        "# Step 2: Load the dataset\n",
        "data = pd.read_csv('/content/Salary_Data.csv')\n",
        "\n",
        "# Step 3: Prepare the data for training\n",
        "X = data['YearsExperience'].values.reshape(-1, 1)\n",
        "y = data['Salary'].values.reshape(-1, 1)\n",
        "\n",
        "# Step 4: Split the data into training and testing sets\n",
        "X_train, X_test, y_train, y_test = train_test_split(X, y, test_size=0.2, random_state=42)\n",
        "\n",
        "# Step 5: Create and train the Linear Regression model\n",
        "model = LinearRegression()\n",
        "model.fit(X_train, y_train)\n",
        "\n",
        "# Step 6: Make predictions on the test set\n",
        "y_pred = model.predict(X_test)\n",
        "\n",
        "# Step 7: Evaluate the model\n",
        "model_score = model.score(X_test, y_test)\n",
        "print(\"Model Score:\", model_score)\n",
        "\n",
        "# Step 8: Predict Salary Hike for a new value\n",
        "new_experience = [[11.2]]  # Example: predict salary for 11.2 years of experience\n",
        "predicted_salary = model.predict(new_experience)\n",
        "print(\"Predicted Salary:\", predicted_salary[0][0])\n"
      ],
      "metadata": {
        "colab": {
          "base_uri": "https://localhost:8080/"
        },
        "id": "wWF3U6-qBM2r",
        "outputId": "a29e8f24-092f-43ed-9f3e-87f201c979d8"
      },
      "execution_count": null,
      "outputs": [
        {
          "output_type": "stream",
          "name": "stdout",
          "text": [
            "Model Score: 0.9024461774180497\n",
            "Predicted Salary: 130868.31462972375\n"
          ]
        }
      ]
    }
  ]
}